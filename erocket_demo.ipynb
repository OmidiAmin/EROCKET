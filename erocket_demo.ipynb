{
 "cells": [
  {
   "cell_type": "markdown",
   "metadata": {},
   "source": [
    "# REDUCING THE COMPUTATIONAL COMPLEXITY OF LEARNING WITH RANDOM CONVOLUTIONAL FEATURES\n"
   ]
  },
  {
   "cell_type": "markdown",
   "metadata": {},
   "source": [
    "This Demo is an implementation of the E-ROCKET feature selection method for\n",
    "removing redundancies of  [MINIROCKET featurs](https://github.com/angus924/minirocket) \n",
    "\n",
    "Please cite this work in the following manner:\n",
    "\n",
    "`M. A. Omidi, B. Seyfe, and S. Valaee, “Reducing the computational\n",
    "complexity of learning with random convolutional features,” in ICASSP\n",
    "2023 - 2023 IEEE International Conference on Acoustics, Speech and\n",
    "Signal Processing (ICASSP), 2023, pp. 1–5.`\n",
    "\n",
    "[Click here to see EROCKET paper](https://ieeexplore.ieee.org/document/10095893) "
   ]
  },
  {
   "cell_type": "code",
   "execution_count": 1,
   "metadata": {
    "colab": {
     "base_uri": "https://localhost:8080/"
    },
    "id": "GGccSFtsQG5J",
    "outputId": "ee3f3e3e-d43a-43cf-ad8b-addd3e740d9a"
   },
   "outputs": [
    {
     "name": "stderr",
     "output_type": "stream",
     "text": [
      "\n",
      "[notice] A new release of pip available: 22.2.2 -> 23.2.1\n",
      "[notice] To update, run: python.exe -m pip install --upgrade pip\n"
     ]
    },
    {
     "name": "stdout",
     "output_type": "stream",
     "text": [
      "Requirement already satisfied: kneed in c:\\users\\asus\\appdata\\local\\programs\\python\\python310\\lib\\site-packages (0.8.1)\n",
      "Requirement already satisfied: scipy>=1.0.0 in c:\\users\\asus\\appdata\\local\\programs\\python\\python310\\lib\\site-packages (from kneed) (1.9.1)\n",
      "Requirement already satisfied: numpy>=1.14.2 in c:\\users\\asus\\appdata\\local\\programs\\python\\python310\\lib\\site-packages (from kneed) (1.23.3)\n"
     ]
    }
   ],
   "source": [
    "!pip install kneed\n",
    "import sys\n",
    "import numpy as np\n",
    "#sys.path.append('/content/drive/MyDrive/erocket_analysis_codes/')\n",
    "from erocket_module import feature_selector # experimental version\n",
    "from sklearn.preprocessing import StandardScaler\n",
    "from sklearn.linear_model import RidgeClassifierCV\n",
    "\n",
    "ucr_data_path = './'\n",
    "ucr_data_name = 'Coffee'\n",
    "#!git clone https://github.com/angus924/minirocket.git\n",
    "sys.path.append('./minirocket-main/code/')\n",
    "from minirocket import fit, transform"
   ]
  },
  {
   "cell_type": "code",
   "execution_count": 2,
   "metadata": {
    "colab": {
     "base_uri": "https://localhost:8080/"
    },
    "id": "mJfX7MpkjjdH",
    "outputId": "5f9e5285-a312-4e30-9a81-292a075a36d4"
   },
   "outputs": [
    {
     "name": "stdout",
     "output_type": "stream",
     "text": [
      "==================================================\n",
      "Minirocket\n",
      "Accuracy: 1.0 Number of features: 9996\n",
      "==================================================\n",
      "EROCKET\n",
      "Accuracy: 1.0 Number of features: 389\n"
     ]
    }
   ],
   "source": [
    "\n",
    "\n",
    "training_data = np.loadtxt(ucr_data_path +\n",
    "                                ucr_data_name +\n",
    "                                '/'+ ucr_data_name + \"_TRAIN.tsv\")\n",
    "Y_training, X_training = training_data[:, 0].astype(int), training_data[:, 1:].astype(np.float32)\n",
    "#print('X_training.shape',X_training.shape)\n",
    "\n",
    "test_data = np.loadtxt(ucr_data_path +\n",
    "                                ucr_data_name +\n",
    "                                '/'+ ucr_data_name + \"_TEST.tsv\")\n",
    "Y_test, X_test = test_data[:, 0].astype(int), test_data[:, 1:].astype(np.float32)\n",
    "#print('X_test.shape',X_test.shape)\n",
    "\n",
    "parameters = fit(X_training)\n",
    "X_training_transform = transform(X_training, parameters)\n",
    "X_test_transform = transform(X_test, parameters)\n",
    "\n",
    "sclr = StandardScaler()\n",
    "sclr.fit(X_training_transform)\n",
    "X_training_transform_scaled = sclr.transform(X_training_transform)\n",
    "X_test_transform_scaled = sclr.transform(X_test_transform)\n",
    "clf = RidgeClassifierCV(np.logspace(-3,3,10))\n",
    "clf.fit(X_training_transform_scaled, Y_training)\n",
    "acc_minirocket = clf.score(X_test_transform_scaled, Y_test)\n",
    "w_ridgecv = clf.coef_\n",
    "\n",
    "# Erocket accuracy\n",
    "u_tilde, first_point_non_neg_weight, knees_minus, knees_plus = feature_selector(w_ridgecv)\n",
    "X_training_transform_reduced = X_training_transform_scaled[:, u_tilde]\n",
    "X_test_transform_reduced = X_test_transform_scaled[:, u_tilde]\n",
    "clf_erocket = RidgeClassifierCV(np.logspace(-3,3,10))\n",
    "clf_erocket.fit(X_training_transform_reduced, Y_training)\n",
    "acc_erocket = clf_erocket.score(X_test_transform_reduced, Y_test)\n",
    "print('=' * 50)\n",
    "print('Minirocket')\n",
    "print('Accuracy:', acc_minirocket, 'Number of features:', X_training_transform.shape[1])\n",
    "print('=' * 50)\n",
    "print('EROCKET')\n",
    "print('Accuracy:', acc_erocket, 'Number of features:', X_training_transform_reduced.shape[1])"
   ]
  },
  {
   "cell_type": "code",
   "execution_count": null,
   "metadata": {},
   "outputs": [],
   "source": []
  }
 ],
 "metadata": {
  "colab": {
   "provenance": []
  },
  "kernelspec": {
   "display_name": "Python 3 (ipykernel)",
   "language": "python",
   "name": "python3"
  },
  "language_info": {
   "codemirror_mode": {
    "name": "ipython",
    "version": 3
   },
   "file_extension": ".py",
   "mimetype": "text/x-python",
   "name": "python",
   "nbconvert_exporter": "python",
   "pygments_lexer": "ipython3",
   "version": "3.10.6"
  }
 },
 "nbformat": 4,
 "nbformat_minor": 4
}
