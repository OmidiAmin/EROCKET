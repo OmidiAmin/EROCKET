{
  "nbformat": 4,
  "nbformat_minor": 0,
  "metadata": {
    "colab": {
      "provenance": []
    },
    "kernelspec": {
      "name": "python3",
      "display_name": "Python 3"
    },
    "language_info": {
      "name": "python"
    }
  },
  "cells": [
    {
      "cell_type": "code",
      "execution_count": null,
      "metadata": {
        "id": "mJfX7MpkjjdH"
      },
      "outputs": [],
      "source": [
        "!pip install kneed\n",
        "from grsr_module import improved_multi_curve_feature_pruner_exp # experimental version\n",
        "\n",
        "training_data = np.loadtxt(ucr_data_path +\n",
        "                                ucr_data_name +\n",
        "                                '/'+ ucr_data_name + \"_TRAIN.tsv\")\n",
        "Y_training, X_training = training_data[:, 0].astype(int), training_data[:, 1:].astype(np.float32)\n",
        "#print('X_training.shape',X_training.shape)\n",
        "\n",
        "test_data = np.loadtxt(ucr_data_path +\n",
        "                                ucr_data_name +\n",
        "                                '/'+ ucr_data_name + \"_TEST.tsv\")\n",
        "Y_test, X_test = test_data[:, 0].astype(int), test_data[:, 1:].astype(np.float32)\n",
        "#print('X_test.shape',X_test.shape)\n",
        "\n",
        "parameters = fit(X_training)\n",
        "X_training_transform = transform(X_training, parameters)\n",
        "X_test_transform = transform(X_test, parameters)\n",
        "\n",
        "sclr = StandardScaler()\n",
        "sclr.fit(X_training_trans)\n",
        "X_training_transform_scaled = sclr.transform(X_training_transform)\n",
        "X_test_transform_scaled = sclr.transform(X_test_transform)\n",
        "clf = RidgeClassifierCV(np.logspace(-3,3,10))\n",
        "clf.fit(X_training_transform_scaled, Y_training)\n",
        "w_ridgecv = clf.coef_\n",
        "\n",
        "# Erocket accuracy\n",
        "u_tilde, first_point_non_neg_weight, knees_minus, knees_plus = improved_multi_curve_feature_pruner_exp(w_ridgecv)\n",
        "X_training_transform_reduced = X_training_transform_scaled[:, u_tilde]\n",
        "X_test_transform_reduced = X_test_transform_scaled[:, u_tilde]\n",
        "clf_erocket = RidgeClassifierCV(np.logspace(-3,3,10))\n",
        "clf_erocket.fit(X_training_transform_reduced, Y_training)\n",
        "acc_erocket = clf_erocket.score(X_test_transform_reduced, Y_test)\n"
      ]
    }
  ]
}